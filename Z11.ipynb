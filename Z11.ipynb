{
 "cells": [
  {
   "cell_type": "code",
   "execution_count": 13,
   "metadata": {
    "collapsed": true
   },
   "outputs": [],
   "source": [
    "import numpy as np\n",
    "from scipy import stats\n",
    "import matplotlib.pyplot as plt"
   ]
  },
  {
   "cell_type": "code",
   "execution_count": 14,
   "metadata": {
    "collapsed": false
   },
   "outputs": [],
   "source": [
    "md, sd = 3.5, 0.76\n",
    "nd = stats.norm(md, sd)"
   ]
  },
  {
   "cell_type": "code",
   "execution_count": 15,
   "metadata": {
    "collapsed": false
   },
   "outputs": [],
   "source": [
    "# Plot the normal distribution within 3 SDs\n",
    "limits = (md-3*sd, md+3*sd)\n",
    "x = np.linspace(limits[0], limits[1])\n",
    "y = nd.pdf(x)"
   ]
  },
  {
   "cell_type": "code",
   "execution_count": 16,
   "metadata": {
    "collapsed": false
   },
   "outputs": [
    {
     "name": "stdout",
     "output_type": "stream",
     "text": [
      "p = 0.118\n"
     ]
    }
   ],
   "source": [
    "# Shade the regions beyond a certain \"checkVal\"\n",
    "checkVal = 2.6\n",
    "print('p = {0:5.3f}'.format(nd.cdf(checkVal)))"
   ]
  },
  {
   "cell_type": "code",
   "execution_count": 17,
   "metadata": {
    "collapsed": true
   },
   "outputs": [],
   "source": [
    "x1 = np.linspace(limits[0], checkVal)\n",
    "y1 = nd.pdf(x1)\n",
    "x2 = np.linspace(md + (md-checkVal), limits[1])\n",
    "y2 = nd.pdf(x2)"
   ]
  },
  {
   "cell_type": "code",
   "execution_count": 19,
   "metadata": {
    "collapsed": false
   },
   "outputs": [
    {
     "data": {
      "image/png": "[encoded data removed]",
      "text/plain": [
       "<matplotlib.figure.Figure at 0xcab99e8278>"
      ]
     },
     "metadata": {},
     "output_type": "display_data"
    }
   ],
   "source": [
    "plt.plot(x,y)\n",
    "plt.fill_between(x1, y1, alpha=0.5)\n",
    "plt.fill_between(x2, y2, alpha=0.2)\n",
    "#  Label the axes\n",
    "plt.xlabel('Weight')\n",
    "plt.ylabel('P(Weight)')\n",
    "plt.text(2.1, 0.05, '11.8%', fontsize=14)\n",
    "plt.show()"
   ]
  },
  {
   "cell_type": "code",
   "execution_count": null,
   "metadata": {
    "collapsed": true
   },
   "outputs": [],
   "source": []
  }
 ],
 "metadata": {
  "kernelspec": {
   "display_name": "Python 3",
   "language": "python",
   "name": "python3"
  },
  "language_info": {
   "codemirror_mode": {
    "name": "ipython",
    "version": 3
   },
   "file_extension": ".py",
   "mimetype": "text/x-python",
   "name": "python",
   "nbconvert_exporter": "python",
   "pygments_lexer": "ipython3",
   "version": "3.6.0"
  }
 },
 "nbformat": 4,
 "nbformat_minor": 2
}
