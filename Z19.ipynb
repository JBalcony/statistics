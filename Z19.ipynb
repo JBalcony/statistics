{
 "cells": [
  {
   "cell_type": "code",
   "execution_count": 16,
   "metadata": {
    "collapsed": false
   },
   "outputs": [],
   "source": [
    "import numpy as np\n",
    "import matplotlib.pyplot as plt\n",
    "import scipy.stats as stats\n",
    "import scipy as sp\n",
    "import seaborn as sns"
   ]
  },
  {
   "cell_type": "markdown",
   "metadata": {},
   "source": [
    "# unpaired data"
   ]
  },
  {
   "cell_type": "code",
   "execution_count": null,
   "metadata": {
    "collapsed": true
   },
   "outputs": [],
   "source": [
    "energ = np.loadtxt('F:\\SZKOLENIE\\data\\94.txt')\n",
    "# Group them\n",
    "group1 = energ[:, 1] == 0\n",
    "group1 = energ[group1][:, 0]\n",
    "group2 = energ[:, 1] == 1\n",
    "group2 = energ[group2][:, 0]\n",
    "\n",
    "print(np.mean(group1))\n",
    "print(np.mean(group2))"
   ]
  },
  {
   "cell_type": "code",
   "execution_count": 14,
   "metadata": {
    "collapsed": false
   },
   "outputs": [
    {
     "name": "stdout",
     "output_type": "stream",
     "text": [
      "('two-sample t-test', 0.00079899821117005929)\n"
     ]
    }
   ],
   "source": [
    "# two-sample t-test\n",
    "# null hypothesis: the two groups have the same mean\n",
    "# this test assumes the two groups have the same variance...\n",
    "# (can be checked with tests for equal variance)\n",
    "# independent groups: e.g., how boys and girls fare at an exam\n",
    "# dependent groups: e.g., how the same class fare at 2 different exams\n",
    "t_statistic, p_value = stats.ttest_ind(group1, group2)\n",
    "# p_value < 0.05 => alternative hypothesis:\n",
    "# they don't have the same mean at the 5% significance level\n",
    "print((\"two-sample t-test\", p_value))"
   ]
  },
  {
   "cell_type": "code",
   "execution_count": 15,
   "metadata": {
    "collapsed": false
   },
   "outputs": [
    {
     "name": "stdout",
     "output_type": "stream",
     "text": [
      "('Mann-Whitney test', 0.0021216133858800489)\n"
     ]
    }
   ],
   "source": [
    "# For non-normally distributed data, perform the two-sample wilcoxon test\n",
    "# a.k.a Mann Whitney U\n",
    "# Watch out: the keyword \"alternative\" was introduced in scipy 0.17, with default\"two-sided\";\n",
    "#            before scipy 0.17, the keyword \"use_continuity\" was in use, with the\n",
    "#            default \"use_continuity=True\", corresponding to \"alternative='greater'\"!\n",
    "if np.int(sp.__version__.split('.')[1]) > 16:\n",
    "    u, p_value = stats.mannwhitneyu(group1, group2, alternative='two-sided')\n",
    "else:\n",
    "    u, p_value = stats.mannwhitneyu(group1, group2, use_continuity=True)\n",
    "    p_value *= 2    # because the default was a one-sided p-value\n",
    "\n",
    "print((\"Mann-Whitney test\", p_value))"
   ]
  },
  {
   "cell_type": "markdown",
   "metadata": {},
   "source": [
    "# paired data"
   ]
  },
  {
   "cell_type": "code",
   "execution_count": 19,
   "metadata": {
    "collapsed": false
   },
   "outputs": [
    {
     "name": "stdout",
     "output_type": "stream",
     "text": [
      "[ 6753.63636364  5433.18181818]\n",
      "[ 1142.12322214  1216.83251257]\n"
     ]
    }
   ],
   "source": [
    "data = np.loadtxt('F:\\SZKOLENIE\\data\\93.txt')\n",
    "# Group them\n",
    "print(np.mean(data, axis=0))\n",
    "print(np.std(data, axis=0, ddof=1))\n",
    "\n",
    "pre = data[:,0]\n",
    "post = data[:,1]"
   ]
  },
  {
   "cell_type": "code",
   "execution_count": 20,
   "metadata": {
    "collapsed": false
   },
   "outputs": [
    {
     "name": "stdout",
     "output_type": "stream",
     "text": [
      "('paired t-test', 3.0590209429348752e-07)\n",
      "('Wilcoxon-Signed-Rank-Sum test', 0.0033300139117459797)\n"
     ]
    }
   ],
   "source": [
    " # paired t-test: doing two measurments on the same experimental unit\n",
    "# e.g., before and after a treatment\n",
    "t_statistic, p_value = stats.ttest_1samp(post - pre, 0)\n",
    "\n",
    "# p < 0.05 => alternative hypothesis:\n",
    "# the difference in mean is not equal to 0\n",
    "print((\"paired t-test\", p_value))\n",
    "\n",
    "# alternative to paired t-test when data has an ordinary scale or when not\n",
    "# normally distributed\n",
    "rankSum, p_value = stats.wilcoxon(post - pre)\n",
    "# --- >>> STOP stats <<< ---\n",
    "print((\"Wilcoxon-Signed-Rank-Sum test\", p_value))"
   ]
  },
  {
   "cell_type": "code",
   "execution_count": null,
   "metadata": {
    "collapsed": true
   },
   "outputs": [],
   "source": []
  }
 ],
 "metadata": {
  "kernelspec": {
   "display_name": "Python 3",
   "language": "python",
   "name": "python3"
  },
  "language_info": {
   "codemirror_mode": {
    "name": "ipython",
    "version": 3
   },
   "file_extension": ".py",
   "mimetype": "text/x-python",
   "name": "python",
   "nbconvert_exporter": "python",
   "pygments_lexer": "ipython3",
   "version": "3.6.0"
  }
 },
 "nbformat": 4,
 "nbformat_minor": 2
}
