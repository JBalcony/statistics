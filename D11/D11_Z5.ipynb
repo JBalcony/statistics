{
 "cells": [
  {
   "cell_type": "markdown",
   "metadata": {},
   "source": [
    "# Cross validation"
   ]
  },
  {
   "cell_type": "code",
   "execution_count": 1,
   "metadata": {
    "collapsed": true
   },
   "outputs": [],
   "source": [
    "import numpy as np\n",
    "import pandas as pd\n",
    "import scipy.stats as stats\n",
    "import sklearn.linear_model as lm\n",
    "from sklearn import datasets, linear_model\n",
    "import matplotlib.pyplot as plt\n",
    "\n",
    "from sklearn.preprocessing import PolynomialFeatures\n",
    "from sklearn.pipeline import make_pipeline\n",
    "\n",
    "from sklearn import  metrics"
   ]
  },
  {
   "cell_type": "markdown",
   "metadata": {},
   "source": [
    "Rozważmy następujący zbiór punktów:"
   ]
  },
  {
   "cell_type": "code",
   "execution_count": 2,
   "metadata": {
    "collapsed": false
   },
   "outputs": [
    {
     "data": {
      "image/png": "[encoded data removed]",
      "text/plain": [
       "<matplotlib.figure.Figure at 0xf892a175c0>"
      ]
     },
     "metadata": {},
     "output_type": "display_data"
    }
   ],
   "source": [
    "x = stats.uniform(0,3).rvs(100)\n",
    "f = lambda x: ((x*2-1)*(x**2-2)*(x-2)+3)\n",
    "y = f(x) + stats.norm(0,0.3).rvs(len(x))\n",
    "plt.plot(x, y, 'ok', ms=10);\n",
    "plt.show()"
   ]
  },
  {
   "cell_type": "code",
   "execution_count": 3,
   "metadata": {
    "collapsed": true
   },
   "outputs": [],
   "source": [
    "x=np.vstack(x)"
   ]
  },
  {
   "cell_type": "markdown",
   "metadata": {},
   "source": [
    "# k-fold"
   ]
  },
  {
   "cell_type": "code",
   "execution_count": 4,
   "metadata": {
    "collapsed": false
   },
   "outputs": [
    {
     "data": {
      "text/plain": [
       "3"
      ]
     },
     "execution_count": 4,
     "metadata": {},
     "output_type": "execute_result"
    }
   ],
   "source": [
    "from sklearn.model_selection import KFold, cross_val_score\n",
    "kf = KFold(n_splits=3)\n",
    "kf.get_n_splits(x)"
   ]
  },
  {
   "cell_type": "code",
   "execution_count": 5,
   "metadata": {
    "collapsed": false
   },
   "outputs": [
    {
     "name": "stdout",
     "output_type": "stream",
     "text": [
      "0.813205412057\n",
      "0.760840191216\n",
      "0.799187271929\n",
      "[0.813205412056761, 0.76084019121604518, 0.79918727192869032]\n"
     ]
    }
   ],
   "source": [
    "scores = list()\n",
    "model2 = make_pipeline(PolynomialFeatures(2), linear_model.LinearRegression())\n",
    "for train_index, test_index in kf.split(x):\n",
    "    #print(\"TRAIN:\", train_index, \"TEST:\", test_index)\n",
    "    X_train, X_test = x[train_index], x[test_index]\n",
    "    y_train, y_test = y[train_index], y[test_index]\n",
    "    scores.append(model2.fit(X_train, y_train).score(X_test, y_test))\n",
    "    print(model2.fit(X_train, y_train).score(X_test, y_test))\n",
    "print(scores)"
   ]
  },
  {
   "cell_type": "code",
   "execution_count": 6,
   "metadata": {
    "collapsed": false
   },
   "outputs": [
    {
     "data": {
      "text/plain": [
       "[0.81158140384950217, 0.82628356253184154, 0.66354105885551051]"
      ]
     },
     "execution_count": 6,
     "metadata": {},
     "output_type": "execute_result"
    }
   ],
   "source": [
    "kfold = KFold(n_splits=3)\n",
    "[model2.fit(x[train], y[train]).score(x[test], y[test]) for train, test in kfold.split(x)]"
   ]
  },
  {
   "cell_type": "markdown",
   "metadata": {},
   "source": [
    "# cross_val_score"
   ]
  },
  {
   "cell_type": "code",
   "execution_count": 7,
   "metadata": {
    "collapsed": false
   },
   "outputs": [
    {
     "data": {
      "text/plain": [
       "array([ 0.8115814 ,  0.82628356,  0.66354106])"
      ]
     },
     "execution_count": 7,
     "metadata": {},
     "output_type": "execute_result"
    }
   ],
   "source": [
    "from sklearn.model_selection import cross_val_score\n",
    "cross_val_score(model2, x, y, cv=kfold)"
   ]
  },
  {
   "cell_type": "code",
   "execution_count": 8,
   "metadata": {
    "collapsed": false
   },
   "outputs": [
    {
     "data": {
      "text/plain": [
       "array([ 0.8115814 ,  0.82628356,  0.66354106])"
      ]
     },
     "execution_count": 8,
     "metadata": {},
     "output_type": "execute_result"
    }
   ],
   "source": [
    "cross_val_score(model2, x, y, cv=kfold, scoring='r2')"
   ]
  },
  {
   "cell_type": "code",
   "execution_count": 9,
   "metadata": {
    "collapsed": false
   },
   "outputs": [
    {
     "data": {
      "text/plain": [
       "array([-3.63541526, -2.80894023, -3.03593995])"
      ]
     },
     "execution_count": 9,
     "metadata": {},
     "output_type": "execute_result"
    }
   ],
   "source": [
    "cross_val_score(model2, x, y, cv=kfold, scoring='neg_median_absolute_error')"
   ]
  },
  {
   "cell_type": "markdown",
   "metadata": {},
   "source": [
    "# cross_val_predict"
   ]
  },
  {
   "cell_type": "code",
   "execution_count": 10,
   "metadata": {
    "collapsed": false
   },
   "outputs": [
    {
     "data": {
      "text/plain": [
       "array([  0.45048631,  10.94025335,   6.06499167,   5.85086085,\n",
       "        21.79908659,  17.16108119,  25.72910039,  11.47859196,\n",
       "         0.46925661,   0.2269473 ,   9.57481118,   0.21169912,\n",
       "         0.33315399,   7.35025572,   4.42686497,  10.15433259,\n",
       "         3.39195848,   1.3413017 ,   0.83266332,   3.99984785,\n",
       "         5.00938913,  25.68156635,   0.1784539 ,   8.66805824,\n",
       "         5.49427424,  17.70798764,   2.97822189,  14.28168815,\n",
       "         0.24254985,   7.22767381,   4.29786117,   3.29486262,\n",
       "        22.8722502 ,   1.78038326,   4.53292065,  24.76019349,\n",
       "        -0.44428906,  -0.46694125,  13.78783213,  27.19087416,\n",
       "         0.11078971,   0.25877841,   4.3571289 ,   0.74399929,\n",
       "         0.10266323,  16.83898623,   0.79346509,   7.45885941,\n",
       "         1.17652637,  19.60652491,   2.25859135,  21.34384669,\n",
       "        17.12837425,   0.19840399,   3.73032324,   3.39375608,\n",
       "        -0.39276817,   2.14038988,  17.50094751,   6.88182067,\n",
       "        10.38934784,  10.80388256,   0.11603233,  15.6775047 ,\n",
       "        -0.42558495,  16.1696367 ,   1.64751996,  -0.21756287,\n",
       "         1.56426203,   1.70125888,   6.93026676,  26.20049539,\n",
       "         1.24792398,  12.36044537,   6.63340109,  25.36849947,\n",
       "         5.49893296,   8.90753469,   9.99564212,  -0.21322603,\n",
       "         7.07768456,   4.18341613,   1.87308251,   2.16852317,\n",
       "        -0.1744438 ,   7.30259163,   5.45590762,   0.33623166,\n",
       "         2.10563643,   0.68098389,   0.13997074,  10.75564388,\n",
       "         1.09642806,   6.70611843,  20.66935975,   0.91228768,\n",
       "         8.43448867,  11.7726537 ,   2.76537409,   4.37936513])"
      ]
     },
     "execution_count": 10,
     "metadata": {},
     "output_type": "execute_result"
    }
   ],
   "source": [
    "from sklearn.model_selection import cross_val_predict\n",
    "cross_val_predict(model2, x, y, cv=kfold)"
   ]
  },
  {
   "cell_type": "markdown",
   "metadata": {},
   "source": [
    "# Zadanie \n",
    "Wykonaj k-fold cross-validation dla:\n",
    "\n",
    "- regrsji linowej\n",
    "- regrsji wielomianowej stopnia 2\n",
    "- regrsji wielomianowej stopnia 3\n",
    "- regrsji wielomianowej stopnia 4\n",
    "- regrsji wielomianowej stopnia 5\n",
    "- regrsji wielomianowej stopnia 25\n",
    "\n",
    "oraz podaj uśrednione wartości dla każdej z nich.\n"
   ]
  },
  {
   "cell_type": "code",
   "execution_count": null,
   "metadata": {
    "collapsed": false
   },
   "outputs": [],
   "source": []
  },
  {
   "cell_type": "code",
   "execution_count": null,
   "metadata": {
    "collapsed": true
   },
   "outputs": [],
   "source": []
  }
 ],
 "metadata": {
  "kernelspec": {
   "display_name": "Python 3",
   "language": "python",
   "name": "python3"
  },
  "language_info": {
   "codemirror_mode": {
    "name": "ipython",
    "version": 3
   },
   "file_extension": ".py",
   "mimetype": "text/x-python",
   "name": "python",
   "nbconvert_exporter": "python",
   "pygments_lexer": "ipython3",
   "version": "3.6.0"
  }
 },
 "nbformat": 4,
 "nbformat_minor": 2
}
