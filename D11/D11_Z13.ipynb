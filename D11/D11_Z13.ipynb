{
 "cells": [
  {
   "cell_type": "markdown",
   "metadata": {
    "collapsed": true
   },
   "source": [
    "# Regresja"
   ]
  },
  {
   "cell_type": "code",
   "execution_count": 1,
   "metadata": {
    "collapsed": true
   },
   "outputs": [],
   "source": [
    "import numpy as np\n",
    "import matplotlib.pyplot as plt\n",
    "from sklearn import datasets\n",
    "from sklearn.model_selection import cross_val_predict\n",
    "from sklearn import linear_model\n",
    "import matplotlib.pyplot as plt"
   ]
  },
  {
   "cell_type": "markdown",
   "metadata": {},
   "source": [
    "Rozważmy zbiór Boston"
   ]
  },
  {
   "cell_type": "code",
   "execution_count": 2,
   "metadata": {
    "collapsed": false
   },
   "outputs": [
    {
     "name": "stdout",
     "output_type": "stream",
     "text": [
      "Boston House Prices dataset\n",
      "===========================\n",
      "\n",
      "Notes\n",
      "------\n",
      "Data Set Characteristics:  \n",
      "\n",
      "    :Number of Instances: 506 \n",
      "\n",
      "    :Number of Attributes: 13 numeric/categorical predictive\n",
      "    \n",
      "    :Median Value (attribute 14) is usually the target\n",
      "\n",
      "    :Attribute Information (in order):\n",
      "        - CRIM     per capita crime rate by town\n",
      "        - ZN       proportion of residential land zoned for lots over 25,000 sq.ft.\n",
      "        - INDUS    proportion of non-retail business acres per town\n",
      "        - CHAS     Charles River dummy variable (= 1 if tract bounds river; 0 otherwise)\n",
      "        - NOX      nitric oxides concentration (parts per 10 million)\n",
      "        - RM       average number of rooms per dwelling\n",
      "        - AGE      proportion of owner-occupied units built prior to 1940\n",
      "        - DIS      weighted distances to five Boston employment centres\n",
      "        - RAD      index of accessibility to radial highways\n",
      "        - TAX      full-value property-tax rate per $10,000\n",
      "        - PTRATIO  pupil-teacher ratio by town\n",
      "        - B        1000(Bk - 0.63)^2 where Bk is the proportion of blacks by town\n",
      "        - LSTAT    % lower status of the population\n",
      "        - MEDV     Median value of owner-occupied homes in $1000's\n",
      "\n",
      "    :Missing Attribute Values: None\n",
      "\n",
      "    :Creator: Harrison, D. and Rubinfeld, D.L.\n",
      "\n",
      "This is a copy of UCI ML housing dataset.\n",
      "http://archive.ics.uci.edu/ml/datasets/Housing\n",
      "\n",
      "\n",
      "This dataset was taken from the StatLib library which is maintained at Carnegie Mellon University.\n",
      "\n",
      "The Boston house-price data of Harrison, D. and Rubinfeld, D.L. 'Hedonic\n",
      "prices and the demand for clean air', J. Environ. Economics & Management,\n",
      "vol.5, 81-102, 1978.   Used in Belsley, Kuh & Welsch, 'Regression diagnostics\n",
      "...', Wiley, 1980.   N.B. Various transformations are used in the table on\n",
      "pages 244-261 of the latter.\n",
      "\n",
      "The Boston house-price data has been used in many machine learning papers that address regression\n",
      "problems.   \n",
      "     \n",
      "**References**\n",
      "\n",
      "   - Belsley, Kuh & Welsch, 'Regression diagnostics: Identifying Influential Data and Sources of Collinearity', Wiley, 1980. 244-261.\n",
      "   - Quinlan,R. (1993). Combining Instance-Based and Model-Based Learning. In Proceedings on the Tenth International Conference of Machine Learning, 236-243, University of Massachusetts, Amherst. Morgan Kaufmann.\n",
      "   - many more! (see http://archive.ics.uci.edu/ml/datasets/Housing)\n",
      "\n"
     ]
    }
   ],
   "source": [
    "boston = datasets.load_boston()\n",
    "# print description\n",
    "print(boston.DESCR)"
   ]
  },
  {
   "cell_type": "code",
   "execution_count": 3,
   "metadata": {
    "collapsed": true
   },
   "outputs": [],
   "source": [
    "# get the data\n",
    "boston_X = boston.data\n",
    "boston_Y = boston.target"
   ]
  },
  {
   "cell_type": "markdown",
   "metadata": {},
   "source": [
    "Podzielmy zbiór na część testową i treningową ."
   ]
  },
  {
   "cell_type": "code",
   "execution_count": 4,
   "metadata": {
    "collapsed": true
   },
   "outputs": [],
   "source": [
    "# Split the data into training/testing sets\n",
    "boston_X_train = boston_X[:-50]\n",
    "boston_X_test = boston_X[-50:]\n",
    " \n",
    "# Split the targets into training/testing sets\n",
    "boston_y_train = boston_Y[:-50]\n",
    "boston_y_test = boston_Y[-50:]"
   ]
  },
  {
   "cell_type": "markdown",
   "metadata": {},
   "source": [
    "Wykonajmy regresję:\n",
    "\n",
    "- klasyczną  \n",
    "- regresję grzbietową (Ridge)\n",
    "- regresję Lasso\n",
    "- Elastic Net\n",
    "\n",
    "Wyznaczmy dla nich \n",
    "\n",
    "- mean square error\n",
    "- normę l1 wektora $w$\n",
    "- normę l2 wektora $w$"
   ]
  },
  {
   "cell_type": "code",
   "execution_count": 8,
   "metadata": {
    "collapsed": false
   },
   "outputs": [],
   "source": [
    "regressors = {}\n",
    "regressors['LinReg'] =linear_model.LinearRegression()\n",
    "regressors['Ridge'] = linear_model.Ridge(alpha = .5)\n",
    "regressors['Lasso'] = linear_model.Lasso(alpha = 5.1)\n",
    "regressors['ElNet'] = linear_model.ElasticNet(alpha = .5, l1_ratio=0.5)"
   ]
  },
  {
   "cell_type": "code",
   "execution_count": 9,
   "metadata": {
    "collapsed": false
   },
   "outputs": [
    {
     "name": "stdout",
     "output_type": "stream",
     "text": [
      "LinReg\n",
      "----------\n",
      "  mse=10.966543166781298\n",
      "  wl1=27.474977159935868\n",
      "  wl2=18.331352794471986\n",
      "  w=[ -1.04755725e-01   4.91233643e-02   3.24299720e-02   2.51517135e+00\n",
      "  -1.76585750e+01   3.81259444e+00   1.06438518e-02  -1.43651798e+00\n",
      "   3.60959247e-01  -1.54635990e-02  -9.13025678e-01   9.94705988e-03\n",
      "  -5.55769911e-01]\n",
      " \n",
      "Ridge\n",
      "----------\n",
      "  mse=11.202006830364176\n",
      "  wl1=22.473861526123482\n",
      "  wl2=13.739734567660516\n",
      "  w=[ -1.01151222e-01   5.01860418e-02   9.02971097e-03   2.45184448e+00\n",
      "  -1.28438453e+01   3.83670637e+00   6.49816975e-03  -1.37747380e+00\n",
      "   3.52695391e-01  -1.62635651e-02  -8.56393789e-01   9.98116918e-03\n",
      "  -5.61792537e-01]\n",
      " \n",
      "Lasso\n",
      "----------\n",
      "  mse=15.166428699321429\n",
      "  wl1=0.8815283433978962\n",
      "  wl2=0.7836758782991127\n",
      "  w=[-0.          0.04108068 -0.          0.          0.          0.\n",
      "  0.04466574 -0.          0.         -0.00861895 -0.          0.00591012\n",
      " -0.78125285]\n",
      " \n",
      "ElNet\n",
      "----------\n",
      "  mse=13.90044711810222\n",
      "  wl1=4.904536607641147\n",
      "  wl2=2.347192210370398\n",
      "  w=[-0.08710885  0.05764456 -0.03311667  0.         -0.          1.79114249\n",
      "  0.01818922 -1.01618513  0.38167348 -0.02093009 -0.75774579  0.00883049\n",
      " -0.73196985]\n",
      " \n"
     ]
    }
   ],
   "source": [
    "fit_results={}\n",
    "for key in regressors:\n",
    "    # Train the model using the training sets\n",
    "    regr = regressors[key]\n",
    "    regr.fit(boston_X_train, boston_y_train)\n",
    "    # mean square error\n",
    "    mse = np.mean((regr.predict(boston_X_test) - boston_y_test) ** 2)\n",
    "    w = regr.coef_\n",
    "    # l1 norm\n",
    "    wl1 = np.sum(np.abs(w))\n",
    "    # l2 norm\n",
    "    wl2 = np.sqrt(np.sum(w**2))\n",
    "    fit_results[key]= { 'mse': mse, 'wl2': wl2, 'wl1': wl1, 'w': w}\n",
    "    print(\"{}\\n----------\\n  mse={}\\n  wl1={}\\n  wl2={}\\n  w={}\\n \".format(key,mse,wl1,wl2,w))\n",
    "    "
   ]
  },
  {
   "cell_type": "markdown",
   "metadata": {},
   "source": [
    "Możemy przedstawić wyniki w formie graficznej:"
   ]
  },
  {
   "cell_type": "code",
   "execution_count": 12,
   "metadata": {
    "collapsed": false
   },
   "outputs": [
    {
     "data": {
      "image/png": "[encoded data removed]",
      "text/plain": [
       "<matplotlib.figure.Figure at 0x11af84d1d0>"
      ]
     },
     "metadata": {},
     "output_type": "display_data"
    }
   ],
   "source": [
    "groups = 3\n",
    "index = np.arange(groups)\n",
    "bar_width = .2\n",
    "opacity = 0.4\n",
    " \n",
    "fig, ax = plt.subplots(figsize=(15,9))\n",
    " \n",
    "t=0\n",
    "for key in regressors:\n",
    "     \n",
    "    results = fit_results[key]\n",
    "    res_val = (results['mse'],results['wl1'],results['wl2'])\n",
    "    plt.bar(index+ bar_width*t, res_val, bar_width,\n",
    "                 alpha=opacity,\n",
    "                 color=np.random.rand(3,1),\n",
    "                 label=key)\n",
    "    t+=1\n",
    " \n",
    "#plt.xlabel('Modele regresji')\n",
    "plt.title('Porownanie modeli regresji: MSE, wl1, wl2')\n",
    "plt.xticks(index + (t-2)*bar_width, ('MSE', 'wl1', 'wl2'))\n",
    "plt.legend()\n",
    " \n",
    "plt.tight_layout()\n",
    "plt.show()"
   ]
  },
  {
   "cell_type": "markdown",
   "metadata": {},
   "source": [
    "# Zadanie 1\n",
    "Wykonaj analogiczne zadanie jak powyżej, dobierając optymalne parametry dla \n",
    "\n",
    "- klasyczną  \n",
    "- regresję grzbietową (Ridge)\n",
    "- regresję Lasso\n",
    "- Elastic Net\n",
    "\n",
    "Wyznaczmy dla nich \n",
    "\n",
    "- mean square error\n",
    "- normę l1 wektora $w$\n",
    "- normę l2 wektora $w$\n",
    "\n",
    "Wyniki przedstaw w postaci graficznej. "
   ]
  },
  {
   "cell_type": "code",
   "execution_count": null,
   "metadata": {
    "collapsed": true
   },
   "outputs": [],
   "source": []
  },
  {
   "cell_type": "markdown",
   "metadata": {},
   "source": [
    "# Zadanie 2\n",
    "Wykonaj analogiczne zadanie jak powyżej, dobierając optymalne parametry oraz wykonując k - fold cross-validation dla \n",
    "\n",
    "- klasyczną  \n",
    "- regresję grzbietową (Ridge)\n",
    "- regresję Lasso\n",
    "- Elastic Net\n",
    "\n",
    "Wyznaczmy dla nich \n",
    "\n",
    "- mean square error\n",
    "- normę l1 wektora $w$\n",
    "- normę l2 wektora $w$\n",
    "\n",
    "Uśrednione wyniki przedstaw w postaci graficznej.\n"
   ]
  },
  {
   "cell_type": "code",
   "execution_count": null,
   "metadata": {
    "collapsed": true
   },
   "outputs": [],
   "source": []
  }
 ],
 "metadata": {
  "kernelspec": {
   "display_name": "Python 3",
   "language": "python",
   "name": "python3"
  },
  "language_info": {
   "codemirror_mode": {
    "name": "ipython",
    "version": 3
   },
   "file_extension": ".py",
   "mimetype": "text/x-python",
   "name": "python",
   "nbconvert_exporter": "python",
   "pygments_lexer": "ipython3",
   "version": "3.6.0"
  }
 },
 "nbformat": 4,
 "nbformat_minor": 2
}
