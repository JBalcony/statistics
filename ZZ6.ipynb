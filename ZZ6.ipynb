{
 "cells": [
  {
   "cell_type": "code",
   "execution_count": 14,
   "metadata": {
    "collapsed": false
   },
   "outputs": [],
   "source": [
    "import numpy as np\n",
    "import matplotlib.pyplot as plt\n",
    "import pandas as pd\n",
    "import urllib\n",
    "import io\n",
    "import zipfile"
   ]
  },
  {
   "cell_type": "code",
   "execution_count": 33,
   "metadata": {
    "collapsed": false
   },
   "outputs": [
    {
     "name": "stdout",
     "output_type": "stream",
     "text": [
      "   year  time sex\n",
      "0  1905  65.8   M\n",
      "1  1908  65.6   M\n",
      "2  1910  62.8   M\n",
      "3  1912  61.6   M\n",
      "4  1918  61.4   M\n"
     ]
    }
   ],
   "source": [
    "# 1.1 Numpy --------------------\n",
    "# Read in a CSV file, and show the top:\n",
    "inFile1 = 'http://tiny.cc/mosaic/swim100m.csv'\n",
    "data = pd.read_csv(inFile1)\n",
    "print(data.head())"
   ]
  },
  {
   "cell_type": "code",
   "execution_count": 34,
   "metadata": {
    "collapsed": false
   },
   "outputs": [
    {
     "name": "stdout",
     "output_type": "stream",
     "text": [
      "(62, 3)\n"
     ]
    }
   ],
   "source": [
    "print(data.shape)"
   ]
  },
  {
   "cell_type": "code",
   "execution_count": 35,
   "metadata": {
    "collapsed": false
   },
   "outputs": [
    {
     "name": "stdout",
     "output_type": "stream",
     "text": [
      "   Time     YVals     ZVals\n",
      "0   0.0  0.000000  1.000000\n",
      "1   0.1  0.809017  0.587785\n",
      "2   0.2  0.951057 -0.309017\n",
      "3   0.3  0.309017 -0.951057\n",
      "4   0.4 -0.587785 -0.809017\n"
     ]
    }
   ],
   "source": [
    "# Generate the data\n",
    "t = np.arange(0,10,dt)\n",
    "y = np.sin(omega*t)\n",
    "z = np.cos(omega*t)\n",
    "# Assemble them in a DataFrame\n",
    "df = pd.DataFrame({'Time':t, 'YVals':y, 'ZVals':z})\n",
    "# Show the top 5 values\n",
    "print(df.head())\n",
    "# Save lines 10-15 of the y- and z-values to an outfile\n",
    "outfile = 'F:\\SZKOLENIE\\data\\out.txt'\n",
    "df[10:16][['YVals', 'ZVals']].to_csv(outfile)"
   ]
  },
  {
   "cell_type": "code",
   "execution_count": null,
   "metadata": {
    "collapsed": true
   },
   "outputs": [],
   "source": []
  }
 ],
 "metadata": {
  "kernelspec": {
   "display_name": "Python 2",
   "language": "python",
   "name": "python2"
  },
  "language_info": {
   "codemirror_mode": {
    "name": "ipython",
    "version": 2
   },
   "file_extension": ".py",
   "mimetype": "text/x-python",
   "name": "python",
   "nbconvert_exporter": "python",
   "pygments_lexer": "ipython2",
   "version": "2.7.12"
  }
 },
 "nbformat": 4,
 "nbformat_minor": 0
}
