{
 "cells": [
  {
   "cell_type": "code",
   "execution_count": 1,
   "metadata": {
    "collapsed": false
   },
   "outputs": [
    {
     "name": "stdout",
     "output_type": "stream",
     "text": [
      "7725.00 is significantly different from the mean (p=0.018).\n",
      "It is unlikely that the value is 7725\n"
     ]
    }
   ],
   "source": [
    "import numpy as np\n",
    "import matplotlib.pyplot as plt\n",
    "import scipy.stats as stats\n",
    "import seaborn as sns\n",
    "\n",
    "data=np.array([ 5260.,  5470.,  5640.,  6180.,  6390.,  6515.,  6805.,  7515., 7515.,  8230.,  8770.])\n",
    "\n",
    "# Check if there is a significant difference relative to \"checkValue\"\n",
    "checkValue = 7725\n",
    "\n",
    "t, prob = stats.ttest_1samp(data, checkValue)\n",
    "if prob < 0.05:\n",
    "    print(('{0:4.2f} is significantly different from the mean (p={1:5.3f}).'.format(checkValue, prob)))\n",
    "\n",
    "# For not normally distributed data, use the Wilcoxon signed rank sum test\n",
    "(rank, pVal) = stats.wilcoxon(data-checkValue)\n",
    "if pVal < 0.05:\n",
    "  issignificant = 'unlikely'\n",
    "else:\n",
    "  issignificant = 'likely'\n",
    "print(('It is ' + issignificant + ' that the value is {0:d}'.format(checkValue)))"
   ]
  },
  {
   "cell_type": "code",
   "execution_count": 2,
   "metadata": {
    "collapsed": true
   },
   "outputs": [],
   "source": [
    "import numpy as np\n",
    "from scipy import stats\n",
    "np.random.seed(1234)\n",
    "data = np.random.randn(10)+0.1\n",
    "data1 = np.random.randn(10)*5 # dummy data\n",
    "data2 = data1 + data # same group-difference as \"data\""
   ]
  },
  {
   "cell_type": "code",
   "execution_count": 3,
   "metadata": {
    "collapsed": false
   },
   "outputs": [
    {
     "data": {
      "text/plain": [
       "Ttest_1sampResult(statistic=-0.12458492298731401, pvalue=0.90359045085470857)"
      ]
     },
     "execution_count": 3,
     "metadata": {},
     "output_type": "execute_result"
    }
   ],
   "source": [
    "stats.ttest_1samp(data, 0)"
   ]
  },
  {
   "cell_type": "code",
   "execution_count": 4,
   "metadata": {
    "collapsed": false
   },
   "outputs": [
    {
     "data": {
      "text/plain": [
       "Ttest_relResult(statistic=-0.1245849229873135, pvalue=0.9035904508547089)"
      ]
     },
     "execution_count": 4,
     "metadata": {},
     "output_type": "execute_result"
    }
   ],
   "source": [
    "stats.ttest_rel(data2, data1)"
   ]
  },
  {
   "cell_type": "code",
   "execution_count": null,
   "metadata": {
    "collapsed": true
   },
   "outputs": [],
   "source": []
  }
 ],
 "metadata": {
  "kernelspec": {
   "display_name": "Python 3",
   "language": "python",
   "name": "python3"
  },
  "language_info": {
   "codemirror_mode": {
    "name": "ipython",
    "version": 3
   },
   "file_extension": ".py",
   "mimetype": "text/x-python",
   "name": "python",
   "nbconvert_exporter": "python",
   "pygments_lexer": "ipython3",
   "version": "3.6.0"
  }
 },
 "nbformat": 4,
 "nbformat_minor": 2
}
