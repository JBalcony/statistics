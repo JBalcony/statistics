{
 "cells": [
  {
   "cell_type": "code",
   "execution_count": 1,
   "metadata": {
    "collapsed": true
   },
   "outputs": [],
   "source": [
    "import numpy as np\n",
    "import matplotlib.pyplot as plt"
   ]
  },
  {
   "cell_type": "code",
   "execution_count": 3,
   "metadata": {
    "collapsed": false
   },
   "outputs": [
    {
     "name": "stdout",
     "output_type": "stream",
     "text": [
      "[ 0.   0.1  0.2  0.3  0.4  0.5  0.6  0.7  0.8  0.9  1.   1.1  1.2  1.3  1.4\n",
      "  1.5  1.6  1.7  1.8  1.9  2.   2.1  2.2  2.3  2.4  2.5  2.6  2.7  2.8  2.9\n",
      "  3.   3.1  3.2  3.3  3.4  3.5  3.6  3.7  3.8  3.9  4.   4.1  4.2  4.3  4.4\n",
      "  4.5  4.6  4.7  4.8  4.9  5.   5.1  5.2  5.3  5.4  5.5  5.6  5.7  5.8  5.9\n",
      "  6.   6.1  6.2  6.3  6.4  6.5  6.6  6.7  6.8  6.9  7.   7.1  7.2  7.3  7.4\n",
      "  7.5  7.6  7.7  7.8  7.9  8.   8.1  8.2  8.3  8.4  8.5  8.6  8.7  8.8  8.9\n",
      "  9.   9.1  9.2  9.3  9.4  9.5  9.6  9.7  9.8  9.9]\n"
     ]
    }
   ],
   "source": [
    "t = np.r_[0:10:0.1]\n",
    "print t"
   ]
  },
  {
   "cell_type": "code",
   "execution_count": 5,
   "metadata": {
    "collapsed": false
   },
   "outputs": [
    {
     "name": "stdout",
     "output_type": "stream",
     "text": [
      "[  0.00000000e+00   3.09016994e-01   5.87785252e-01   8.09016994e-01\n",
      "   9.51056516e-01   1.00000000e+00   9.51056516e-01   8.09016994e-01\n",
      "   5.87785252e-01   3.09016994e-01   1.22464680e-16  -3.09016994e-01\n",
      "  -5.87785252e-01  -8.09016994e-01  -9.51056516e-01  -1.00000000e+00\n",
      "  -9.51056516e-01  -8.09016994e-01  -5.87785252e-01  -3.09016994e-01\n",
      "  -2.44929360e-16   3.09016994e-01   5.87785252e-01   8.09016994e-01\n",
      "   9.51056516e-01   1.00000000e+00   9.51056516e-01   8.09016994e-01\n",
      "   5.87785252e-01   3.09016994e-01   3.67394040e-16  -3.09016994e-01\n",
      "  -5.87785252e-01  -8.09016994e-01  -9.51056516e-01  -1.00000000e+00\n",
      "  -9.51056516e-01  -8.09016994e-01  -5.87785252e-01  -3.09016994e-01\n",
      "  -4.89858720e-16   3.09016994e-01   5.87785252e-01   8.09016994e-01\n",
      "   9.51056516e-01   1.00000000e+00   9.51056516e-01   8.09016994e-01\n",
      "   5.87785252e-01   3.09016994e-01   6.12323400e-16  -3.09016994e-01\n",
      "  -5.87785252e-01  -8.09016994e-01  -9.51056516e-01  -1.00000000e+00\n",
      "  -9.51056516e-01  -8.09016994e-01  -5.87785252e-01  -3.09016994e-01\n",
      "  -7.34788079e-16   3.09016994e-01   5.87785252e-01   8.09016994e-01\n",
      "   9.51056516e-01   1.00000000e+00   9.51056516e-01   8.09016994e-01\n",
      "   5.87785252e-01   3.09016994e-01   8.57252759e-16  -3.09016994e-01\n",
      "  -5.87785252e-01  -8.09016994e-01  -9.51056516e-01  -1.00000000e+00\n",
      "  -9.51056516e-01  -8.09016994e-01  -5.87785252e-01  -3.09016994e-01\n",
      "  -9.79717439e-16   3.09016994e-01   5.87785252e-01   8.09016994e-01\n",
      "   9.51056516e-01   1.00000000e+00   9.51056516e-01   8.09016994e-01\n",
      "   5.87785252e-01   3.09016994e-01   1.10218212e-15  -3.09016994e-01\n",
      "  -5.87785252e-01  -8.09016994e-01  -9.51056516e-01  -1.00000000e+00\n",
      "  -9.51056516e-01  -8.09016994e-01  -5.87785252e-01  -3.09016994e-01]\n"
     ]
    }
   ],
   "source": [
    "freq = 0.5\n",
    "x = np.sin(2*np.pi*freq*t)\n",
    "print x"
   ]
  },
  {
   "cell_type": "code",
   "execution_count": 9,
   "metadata": {
    "collapsed": false
   },
   "outputs": [],
   "source": [
    "# Plot the data\n",
    "plt.plot(t,x)\n",
    "# Format the plot\n",
    "plt.xlabel('Time[sec]')\n",
    "plt.ylabel('Values')\n",
    "#plt.savefig('\\Sinewave.png', dpi=200)\n",
    "plt.show()"
   ]
  },
  {
   "cell_type": "code",
   "execution_count": 14,
   "metadata": {
    "collapsed": false
   },
   "outputs": [
    {
     "data": {
      "image/png": "[encoded data removed]",
      "text/plain": [
       "<matplotlib.figure.Figure at 0x74b3ac8>"
      ]
     },
     "metadata": {},
     "output_type": "display_data"
    }
   ],
   "source": [
    "%matplotlib inline\n",
    "# Plot the data\n",
    "plt.plot(t,x)\n",
    "# Format the plot\n",
    "plt.xlabel('Time[sec]')\n",
    "plt.ylabel('Values')\n",
    "#plt.savefig('\\Sinewave.png', dpi=200)\n",
    "plt.show()"
   ]
  },
  {
   "cell_type": "code",
   "execution_count": 12,
   "metadata": {
    "collapsed": false
   },
   "outputs": [],
   "source": [
    "%matplotlib qt4\n",
    "# Plot the data\n",
    "plt.plot(t,x)\n",
    "# Format the plot\n",
    "plt.xlabel('Time[sec]')\n",
    "plt.ylabel('Values')\n",
    "#plt.savefig('\\Sinewave.png', dpi=200)\n",
    "plt.show()"
   ]
  },
  {
   "cell_type": "code",
   "execution_count": null,
   "metadata": {
    "collapsed": true
   },
   "outputs": [],
   "source": [
    ""
   ]
  }
 ],
 "metadata": {
  "kernelspec": {
   "display_name": "Python 2",
   "language": "python",
   "name": "python2"
  },
  "language_info": {
   "codemirror_mode": {
    "name": "ipython",
    "version": 2.0
   },
   "file_extension": ".py",
   "mimetype": "text/x-python",
   "name": "python",
   "nbconvert_exporter": "python",
   "pygments_lexer": "ipython2",
   "version": "2.7.12"
  }
 },
 "nbformat": 4,
 "nbformat_minor": 0
}