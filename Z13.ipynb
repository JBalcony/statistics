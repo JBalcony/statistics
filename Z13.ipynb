{
 "cells": [
  {
   "cell_type": "markdown",
   "metadata": {},
   "source": [
    "# Przykład \n",
    "95% - przedział ufności (confidence interval-CI) dla średniej można uzyskać za pomocą:\n"
   ]
  },
  {
   "cell_type": "code",
   "execution_count": 7,
   "metadata": {
    "collapsed": true
   },
   "outputs": [],
   "source": [
    "import numpy as np\n",
    "from scipy import stats\n",
    "data = stats.norm.rvs(size=100)\n",
    "alpha = 0.95\n",
    "df = len(data)-1\n",
    "ci = stats.t.interval(alpha, df, loc=np.mean(data), scale=stats.sem(data))"
   ]
  },
  {
   "cell_type": "code",
   "execution_count": 8,
   "metadata": {
    "collapsed": false
   },
   "outputs": [
    {
     "data": {
      "text/plain": [
       "(-0.21071706969806633, 0.21138859929938733)"
      ]
     },
     "execution_count": 8,
     "metadata": {},
     "output_type": "execute_result"
    }
   ],
   "source": [
    "ci"
   ]
  },
  {
   "cell_type": "markdown",
   "metadata": {},
   "source": [
    "# Zadania\n",
    "Producentowi pigułek na ból głowy zobowiązał się dostarczyć pigułki z odchyleniem standardowym $\\sigma = 0.05$. Z następnej partii pigułek wybrano  próbkę $n=13$ pigułek o wagach \n",
    "$3.04, 2.94, 3.01, 3.00, 2.94, 2.91, 3.02, 3.04, 3.09, 2.95, 2.99, 3.10, 3.02$ g.\n",
    "\n",
    "\n",
    "Pytanie: Czy odchylenie standardowe jest większe niż dozwolone?"
   ]
  },
  {
   "cell_type": "code",
   "execution_count": 11,
   "metadata": {
    "collapsed": true
   },
   "outputs": [],
   "source": [
    "import numpy as np\n",
    "from scipy import stats\n",
    "data = np.r_[3.04, 2.94, 3.01, 3.00, 2.94, 2.91, 3.02, 3.04, 3.09, 2.95, 2.99, 3.10, 3.02]"
   ]
  },
  {
   "cell_type": "code",
   "execution_count": 12,
   "metadata": {
    "collapsed": true
   },
   "outputs": [],
   "source": [
    "sigma = 0.05\n",
    "chi2Dist = stats.chi2(len(data)-1)"
   ]
  },
  {
   "cell_type": "code",
   "execution_count": 13,
   "metadata": {
    "collapsed": true
   },
   "outputs": [],
   "source": [
    "statistic = sum( ((data-np.mean(data))/sigma)**2 )"
   ]
  },
  {
   "cell_type": "code",
   "execution_count": 14,
   "metadata": {
    "collapsed": false
   },
   "outputs": [
    {
     "data": {
      "text/plain": [
       "0.19293306654285153"
      ]
     },
     "execution_count": 14,
     "metadata": {},
     "output_type": "execute_result"
    }
   ],
   "source": [
    "chi2Dist.sf(statistic)"
   ]
  },
  {
   "cell_type": "markdown",
   "metadata": {},
   "source": [
    "# Zadania\n",
    "Weźmy na przykład przypadek, w którym chcemy porównać dokładność dwóch metod. Z testem chcemy określić, czy dokładność obu metod jest równoważna, czy też jedna metoda jest lepsza.\n",
    "\n",
    "Mamy następujące wyniki:\n",
    "\n",
    "Próbka 1: $[20.7, 20.3, 20.3, 20.3, 20.7, 19.9, 19.9, 19.9, 20.3, 20.3, 19.7, 20.3]$\n",
    "\n",
    "Próbka 2: $[19.7, 19.4, 20.1, 18.6, 18.8, 20.2, 18.7, 19.0]$"
   ]
  },
  {
   "cell_type": "code",
   "execution_count": 15,
   "metadata": {
    "collapsed": true
   },
   "outputs": [],
   "source": [
    "import numpy as np\n",
    "from scipy import stats\n",
    "method1 = np.array([20.7, 20.3, 20.3, 20.3, 20.7, 19.9, 19.9, 19.9, 20.3, 20.3, 19.7, 20.3])\n",
    "method2 = np.array([ 19.7, 19.4, 20.1, 18.6, 18.8, 20.2, 18.7, 19. ])"
   ]
  },
  {
   "cell_type": "code",
   "execution_count": 18,
   "metadata": {
    "collapsed": false
   },
   "outputs": [
    {
     "name": "stdout",
     "output_type": "stream",
     "text": [
      "There is a significant difference between the two distributions.\n"
     ]
    }
   ],
   "source": [
    "fval = np.var(method1, ddof=1)/np.var(method2, ddof=1)\n",
    "fd = stats.f(len(method1)-1,len(method2)-1)\n",
    "p_oneTail = fd.cdf(fval) # -> 0.019\n",
    "if (p_oneTail<0.025) or (p_oneTail>0.975):\n",
    "    print('There is a significant difference between the two distributions.')\n",
    "else:\n",
    "    print('No significant difference.')"
   ]
  },
  {
   "cell_type": "code",
   "execution_count": null,
   "metadata": {
    "collapsed": true
   },
   "outputs": [],
   "source": []
  }
 ],
 "metadata": {
  "kernelspec": {
   "display_name": "Python 3",
   "language": "python",
   "name": "python3"
  },
  "language_info": {
   "codemirror_mode": {
    "name": "ipython",
    "version": 3
   },
   "file_extension": ".py",
   "mimetype": "text/x-python",
   "name": "python",
   "nbconvert_exporter": "python",
   "pygments_lexer": "ipython3",
   "version": "3.6.0"
  }
 },
 "nbformat": 4,
 "nbformat_minor": 2
}
