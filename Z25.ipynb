{
 "cells": [
  {
   "cell_type": "markdown",
   "metadata": {},
   "source": [
    "# One-Way Chi-Square Test"
   ]
  },
  {
   "cell_type": "code",
   "execution_count": 4,
   "metadata": {
    "collapsed": false
   },
   "outputs": [
    {
     "name": "stdout",
     "output_type": "stream",
     "text": [
      "0.373130385949\n",
      "5.36363636364\n"
     ]
    }
   ],
   "source": [
    "import numpy as np\n",
    "import pandas as pd\n",
    "from scipy import stats\n",
    "data=np.array([10,6,5,4,5,3])\n",
    "V, p = stats.chisquare(data)\n",
    "print(p)\n",
    "print(V)"
   ]
  },
  {
   "cell_type": "markdown",
   "metadata": {},
   "source": [
    "# Chi-Square Contingency Test"
   ]
  },
  {
   "cell_type": "code",
   "execution_count": 6,
   "metadata": {
    "collapsed": false
   },
   "outputs": [
    {
     "name": "stdout",
     "output_type": "stream",
     "text": [
      "1.0724852071\n",
      "0.300384770391\n",
      "1\n",
      "[[ 45.24   6.76]\n",
      " [ 41.76   6.24]]\n"
     ]
    }
   ],
   "source": [
    "data = np.array([[43,9],[44,4]])\n",
    "V, p, dof, expected = stats.chi2_contingency(data)\n",
    "print(V)\n",
    "print(p)\n",
    "print(dof)\n",
    "print(expected)"
   ]
  },
  {
   "cell_type": "markdown",
   "metadata": {},
   "source": [
    "# fisherExact"
   ]
  },
  {
   "cell_type": "code",
   "execution_count": 7,
   "metadata": {
    "collapsed": false
   },
   "outputs": [
    {
     "name": "stdout",
     "output_type": "stream",
     "text": [
      "\n",
      "FISHER --------------------------------------------------------\n",
      "The probability of obtaining a distribution at least as extreme as the one that was actually observed, assuming that the null hypothesis is true, is: 0.035.\n"
     ]
    }
   ],
   "source": [
    "# Enter the data\n",
    "obs = np.array([[1,5], [8,2]])\n",
    "\n",
    "# --- >>> START stats <<< ---\n",
    "# Calculate the Fisher Exact Test\n",
    "# Note that by default, the option \"alternative='two-sided'\" is set;\n",
    "# other options are 'less' or 'greater'.\n",
    "fisher_result = stats.fisher_exact(obs)\n",
    "# --- >>> STOP stats <<< ---\n",
    "\n",
    "# Print the result\n",
    "print('\\nFISHER --------------------------------------------------------')\n",
    "print(('The probability of obtaining a distribution at least as extreme '\n",
    "+ 'as the one that was actually observed, assuming that the null ' +\n",
    "'hypothesis is true, is: {0:5.3f}.'.format(fisher_result[1])))"
   ]
  },
  {
   "cell_type": "markdown",
   "metadata": {},
   "source": [
    "# Mcnemar"
   ]
  },
  {
   "cell_type": "code",
   "execution_count": 9,
   "metadata": {
    "collapsed": false
   },
   "outputs": [
    {
     "name": "stdout",
     "output_type": "stream",
     "text": [
      "\n",
      "MCNEMAR'S TEST -----------------------------------------------------\n",
      "p = 0.000\n",
      "There was a significant change in the disease by the treatment.\n"
     ]
    }
   ],
   "source": [
    "from statsmodels.sandbox.stats.runs import mcnemar\n",
    "'''McNemars Test should be run in the \"exact\" version, even though approximate formulas are\n",
    "typically given in the lecture scripts. Just ignore the statistic that is returned, because\n",
    "it is different for the two options.\n",
    "\n",
    "In the following example, a researcher attempts to determine if a drug has an effect on a\n",
    "particular disease. Counts of individuals are given in the table, with the diagnosis\n",
    "(disease: present or absent) before treatment given in the rows, and the diagnosis\n",
    "after treatment in the columns. The test requires the same subjects to be included in\n",
    "the before-and-after measurements (matched pairs).\n",
    "'''\n",
    "\n",
    "\n",
    "f_obs = np.array([[101, 121],[59, 33]])\n",
    "(statistic, pVal) = mcnemar(f_obs)\n",
    "print('\\nMCNEMAR\\'S TEST -----------------------------------------------------')\n",
    "print('p = {0:5.3f}'.format(pVal))\n",
    "if pVal < 0.05:\n",
    "    print(\"There was a significant change in the disease by the treatment.\")  "
   ]
  },
  {
   "cell_type": "code",
   "execution_count": null,
   "metadata": {
    "collapsed": true
   },
   "outputs": [],
   "source": []
  }
 ],
 "metadata": {
  "kernelspec": {
   "display_name": "Python 3",
   "language": "python",
   "name": "python3"
  },
  "language_info": {
   "codemirror_mode": {
    "name": "ipython",
    "version": 3
   },
   "file_extension": ".py",
   "mimetype": "text/x-python",
   "name": "python",
   "nbconvert_exporter": "python",
   "pygments_lexer": "ipython3",
   "version": "3.6.0"
  }
 },
 "nbformat": 4,
 "nbformat_minor": 2
}
