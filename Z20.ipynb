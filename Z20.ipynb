{
 "cells": [
  {
   "cell_type": "code",
   "execution_count": 4,
   "metadata": {
    "collapsed": false
   },
   "outputs": [
    {
     "name": "stdout",
     "output_type": "stream",
     "text": [
      "The probability that the two distributions are equal is 0.033 .\n"
     ]
    }
   ],
   "source": [
    "import numpy as np\n",
    "from scipy import stats\n",
    "\n",
    "# Generate the data\n",
    "np.random.seed(123)\n",
    "race_1 = np.round(np.random.randn(20)*10+90)\n",
    "race_2 = np.round(np.random.randn(20)*10+85)\n",
    "# t-test\n",
    "(t, pVal) = stats.ttest_rel (race_1, race_2)\n",
    "# Show the result\n",
    "print('The probability that the two distributions are equal is {0:5.3f} .'.format(pVal))"
   ]
  },
  {
   "cell_type": "code",
   "execution_count": 2,
   "metadata": {
    "collapsed": false
   },
   "outputs": [
    {
     "name": "stdout",
     "output_type": "stream",
     "text": [
      "                            OLS Regression Results                            \n",
      "==============================================================================\n",
      "Dep. Variable:       I(Race2 - Race1)   R-squared:                       0.000\n",
      "Model:                            OLS   Adj. R-squared:                  0.000\n",
      "Method:                 Least Squares   F-statistic:                       nan\n",
      "Date:                Wed, 26 Apr 2017   Prob (F-statistic):                nan\n",
      "Time:                        13:42:57   Log-Likelihood:                -85.296\n",
      "No. Observations:                  20   AIC:                             172.6\n",
      "Df Residuals:                      19   BIC:                             173.6\n",
      "Df Model:                           0                                         \n",
      "Covariance Type:            nonrobust                                         \n",
      "==============================================================================\n",
      "                 coef    std err          t      P>|t|      [95.0% Conf. Int.]\n",
      "------------------------------------------------------------------------------\n",
      "Intercept     -9.1000      3.950     -2.304      0.033       -17.367    -0.833\n",
      "==============================================================================\n",
      "Omnibus:                        0.894   Durbin-Watson:                   2.009\n",
      "Prob(Omnibus):                  0.639   Jarque-Bera (JB):                0.793\n",
      "Skew:                           0.428   Prob(JB):                        0.673\n",
      "Kurtosis:                       2.532   Cond. No.                         1.00\n",
      "==============================================================================\n",
      "\n",
      "Warnings:\n",
      "[1] Standard Errors assume that the covariance matrix of the errors is correctly specified.\n"
     ]
    },
    {
     "name": "stderr",
     "output_type": "stream",
     "text": [
      "D:\\Anaconda3\\lib\\site-packages\\statsmodels\\regression\\linear_model.py:1191: RuntimeWarning: invalid value encountered in double_scalars\n",
      "  return self.ess/self.df_model\n",
      "D:\\Anaconda3\\lib\\site-packages\\scipy\\stats\\_distn_infrastructure.py:875: RuntimeWarning: invalid value encountered in greater\n",
      "  return (self.a < x) & (x < self.b)\n",
      "D:\\Anaconda3\\lib\\site-packages\\scipy\\stats\\_distn_infrastructure.py:875: RuntimeWarning: invalid value encountered in less\n",
      "  return (self.a < x) & (x < self.b)\n",
      "D:\\Anaconda3\\lib\\site-packages\\scipy\\stats\\_distn_infrastructure.py:1814: RuntimeWarning: invalid value encountered in less_equal\n",
      "  cond2 = cond0 & (x <= self.a)\n"
     ]
    }
   ],
   "source": [
    "import pandas as pd\n",
    "import statsmodels.formula.api as sm\n",
    "np.random.seed(123)\n",
    "df = pd.DataFrame({'Race1': race_1, 'Race2':race_2})\n",
    "result = sm.ols(formula='I(Race2-Race1) ~ 1', data=df).fit()\n",
    "print(result.summary())"
   ]
  },
  {
   "cell_type": "code",
   "execution_count": null,
   "metadata": {
    "collapsed": true
   },
   "outputs": [],
   "source": []
  }
 ],
 "metadata": {
  "kernelspec": {
   "display_name": "Python 3",
   "language": "python",
   "name": "python3"
  },
  "language_info": {
   "codemirror_mode": {
    "name": "ipython",
    "version": 3
   },
   "file_extension": ".py",
   "mimetype": "text/x-python",
   "name": "python",
   "nbconvert_exporter": "python",
   "pygments_lexer": "ipython3",
   "version": "3.6.0"
  }
 },
 "nbformat": 4,
 "nbformat_minor": 2
}
