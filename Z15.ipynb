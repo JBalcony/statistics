{
 "cells": [
  {
   "cell_type": "code",
   "execution_count": 1,
   "metadata": {
    "collapsed": true
   },
   "outputs": [],
   "source": [
    "import numpy as np\n",
    "import matplotlib.pyplot as plt\n",
    "import scipy.stats as stats\n",
    "import pandas as pd"
   ]
  },
  {
   "cell_type": "code",
   "execution_count": 2,
   "metadata": {
    "collapsed": true
   },
   "outputs": [],
   "source": [
    "# additional packages\n",
    "from statsmodels.stats.diagnostic import lillifors"
   ]
  },
  {
   "cell_type": "code",
   "execution_count": 4,
   "metadata": {
    "collapsed": false
   },
   "outputs": [],
   "source": [
    "# Set the parameters\n",
    "numData = 1000\n",
    "myMean = 0\n",
    "mySD = 3"
   ]
  },
  {
   "cell_type": "code",
   "execution_count": 5,
   "metadata": {
    "collapsed": false
   },
   "outputs": [
    {
     "data": {
      "image/png": "[encoded data removed]",
      "text/plain": [
       "<matplotlib.figure.Figure at 0x5e54cc8a90>"
      ]
     },
     "metadata": {},
     "output_type": "display_data"
    }
   ],
   "source": [
    "# Generate and show random data\n",
    "data = stats.norm.rvs(myMean, mySD, size=numData)\n",
    "fewData = data[:100]\n",
    "plt.hist(data)\n",
    "plt.show()"
   ]
  },
  {
   "cell_type": "code",
   "execution_count": 8,
   "metadata": {
    "collapsed": false
   },
   "outputs": [
    {
     "data": {
      "image/png": "[encoded data removed]",
      "text/plain": [
       "<matplotlib.figure.Figure at 0x5e582814a8>"
      ]
     },
     "metadata": {},
     "output_type": "display_data"
    }
   ],
   "source": [
    " # --- >>> START stats <<< ---\n",
    "# Graphical test: if the data lie on a line, they are pretty much\n",
    "# normally distributed\n",
    "stats.probplot(data, plot=plt)\n",
    "plt.show()"
   ]
  },
  {
   "cell_type": "code",
   "execution_count": 7,
   "metadata": {
    "collapsed": false
   },
   "outputs": [
    {
     "name": "stdout",
     "output_type": "stream",
     "text": [
      "p-values for all 1000 data points: ----------------\n",
      "Omnibus               0.856407\n",
      "Shapiro-Wilk          0.788625\n",
      "Lilliefors            0.195048\n",
      "Kolmogorov-Smirnov    0.631536\n",
      "dtype: float64\n",
      "p-values for the first 100 data points: ----------------\n",
      "Omnibus               0.494878\n",
      "Shapiro-Wilk          0.647018\n",
      "Lilliefors            0.048368\n",
      "Kolmogorov-Smirnov    0.384683\n",
      "dtype: float64\n",
      "Data are normally distributed\n"
     ]
    }
   ],
   "source": [
    "pVals = pd.Series()\n",
    "pFewVals = pd.Series()\n",
    "# The scipy normaltest is based on D-Agostino and Pearsons test that\n",
    "# combines skew and kurtosis to produce an omnibus test of normality.\n",
    "_, pVals['Omnibus']    = stats.normaltest(data)\n",
    "_, pFewVals['Omnibus'] = stats.normaltest(fewData)\n",
    "\n",
    "# Shapiro-Wilk test\n",
    "_, pVals['Shapiro-Wilk']    = stats.shapiro(data)\n",
    "_, pFewVals['Shapiro-Wilk'] = stats.shapiro(fewData)\n",
    "\n",
    "# Or you can check for normality with Lilliefors-test\n",
    "_, pVals['Lilliefors']    = lillifors(data)\n",
    "_, pFewVals['Lilliefors'] = lillifors(fewData)\n",
    "\n",
    "# Alternatively with original Kolmogorov-Smirnov test\n",
    "_, pVals['Kolmogorov-Smirnov']    = stats.kstest((data-np.mean(data))/np.std(data,ddof=1), 'norm')\n",
    "_, pFewVals['Kolmogorov-Smirnov'] = stats.kstest((fewData-np.mean(fewData))/np.std(fewData,ddof=1), 'norm')\n",
    "\n",
    "print('p-values for all {0} data points: ----------------'.format(len(data)))\n",
    "print(pVals)\n",
    "print('p-values for the first 100 data points: ----------------')\n",
    "print(pFewVals)\n",
    "\n",
    "if pVals['Omnibus'] > 0.05:\n",
    "    print('Data are normally distributed')\n",
    "# --- >>> STOP stats <<< ---"
   ]
  },
  {
   "cell_type": "code",
   "execution_count": null,
   "metadata": {
    "collapsed": true
   },
   "outputs": [],
   "source": []
  }
 ],
 "metadata": {
  "kernelspec": {
   "display_name": "Python 3",
   "language": "python",
   "name": "python3"
  },
  "language_info": {
   "codemirror_mode": {
    "name": "ipython",
    "version": 3
   },
   "file_extension": ".py",
   "mimetype": "text/x-python",
   "name": "python",
   "nbconvert_exporter": "python",
   "pygments_lexer": "ipython3",
   "version": "3.6.0"
  }
 },
 "nbformat": 4,
 "nbformat_minor": 2
}
